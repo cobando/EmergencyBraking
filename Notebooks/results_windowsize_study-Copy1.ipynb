{
 "cells": [
  {
   "cell_type": "markdown",
   "metadata": {},
   "source": [
    "# Emergency braking - check results 4__label_collison\n",
    "\n",
    "<br>\n",
    "\n",
    "<hr>\n",
    "\n",
    "## Description\n",
    "\n",
    "This notebook check the log results of 4__label_collison \n",
    "\n",
    "4__label_collison runs experiments using DreemNet on the Emergency Braking dataset and predicting events that correspond either to a collison (1), or not (0)"
   ]
  },
  {
   "cell_type": "code",
   "execution_count": 49,
   "metadata": {},
   "outputs": [],
   "source": [
    "import os\n",
    "import torch\n",
    "import matplotlib \n",
    "import matplotlib.pyplot as plt\n",
    "import h5py\n",
    "import numpy as np\n",
    "from scipy.interpolate import griddata\n",
    "import pandas as pd\n",
    "\n",
    "import tensorflow as tf\n",
    "from tensorflow.python.summary.summary_iterator import summary_iterator\n",
    "from scipy.stats import iqr\n",
    "\n",
    "from mpl_toolkits.mplot3d import Axes3D # For 3d scatterplots"
   ]
  },
  {
   "cell_type": "markdown",
   "metadata": {},
   "source": [
    "## Window size study\n",
    "\n",
    "Ths study is done over balanced data for one subject with labels braking and no braking "
   ]
  },
  {
   "cell_type": "code",
   "execution_count": 18,
   "metadata": {},
   "outputs": [],
   "source": [
    "path_to_results = '/Users/obando_c/Documents/Neuro/EmergencyBraking/results/'\n",
    "path_to_example = '5__windowsize_label_braking/lightning_logs/'\n",
    "folder_names = sorted(os.listdir(path=path_to_results + path_to_example))\n",
    "folder_names = [x for x in folder_names if not x.startswith('.')]"
   ]
  },
  {
   "cell_type": "code",
   "execution_count": 65,
   "metadata": {},
   "outputs": [],
   "source": [
    "values_auc = []\n",
    "values_f1score = []\n",
    "for forlder_name in folder_names:\n",
    "    #folder_names = sorted(os.listdir(path=path_to_results + path_to_example))\n",
    "    path_temp = os.path.join(path_to_results,path_to_example, forlder_name, \"auc_test\")\n",
    "    path_temp2 = os.path.join(path_to_results,path_to_example, forlder_name, \"f1score_test\")\n",
    "    \n",
    "    file_names = sorted(os.listdir(path=path_temp))\n",
    "    file_names = [x for x in file_names if not x.startswith('.')]\n",
    "    \n",
    "    file_names2 = sorted(os.listdir(path=path_temp2))\n",
    "    file_names2 = [x for x in file_names2 if not x.startswith('.')]\n",
    "    \n",
    "    for event in summary_iterator(os.path.join(path_temp,file_names[0])):\n",
    "        for value in event.summary.value:\n",
    "            values_auc.append(value.simple_value)\n",
    "            \n",
    "    for event in summary_iterator(os.path.join(path_temp2,file_names2[0])):\n",
    "        for value in event.summary.value:\n",
    "            values_f1score.append(value.simple_value)"
   ]
  },
  {
   "cell_type": "code",
   "execution_count": 94,
   "metadata": {},
   "outputs": [
    {
     "data": {
      "image/png": "[encoded data removed]",
      "text/plain": [
       "<Figure size 432x288 with 1 Axes>"
      ]
     },
     "metadata": {
      "needs_background": "light"
     },
     "output_type": "display_data"
    }
   ],
   "source": [
    "windo_size = np.array([320, 320, 70, 240,160, 80, 40, 20, 200, 230, 210])\n",
    "convert_ms = 5*(260/320)\n",
    "plt.plot(np.sort(np.array([windo_size*convert_ms,values_auc]))[0,],np.sort(np.array([windo_size*convert_ms,values_auc]))[1,],'o-', label=\"auc\")\n",
    "plt.plot(np.sort(np.array([windo_size*convert_ms,values_f1score]))[0,],np.sort(np.array([windo_size*convert_ms,values_f1score]))[1,],'o-', label=\"f1score\")\n",
    "\n",
    "plt.xlabel(\"time (ms)\")\n",
    "#plt.ylabel(\"AUC\")\n",
    "plt.legend()\n",
    "plt.savefig(\"Plots/window_size_braking_driving.png\")"
   ]
  },
  {
   "cell_type": "markdown",
   "metadata": {},
   "source": [
    "## Learning rate and batch size study\n",
    "\n",
    "Ths study is done over unbalanced data for all subject with labels collision and normal braking. The baseline fit is very noisy, it dosen't seem to converge, and AUC varies between 1 and 0, suggesting that the stochastic optimizer is jumping all around the space without really converging.\n",
    "\n",
    "So we'll try to run the optimizer dereministically"
   ]
  },
  {
   "cell_type": "code",
   "execution_count": 291,
   "metadata": {},
   "outputs": [],
   "source": [
    "path_to_results = '/Users/obando_c/Documents/Neuro/EmergencyBraking/results/'\n",
    "path_to_example = '4__label_collison/lightning_logs/'\n",
    "folder_names = sorted(os.listdir(path=path_to_results + path_to_example))\n",
    "folder_names = [x for x in folder_names if not x.startswith('.')]"
   ]
  },
  {
   "cell_type": "code",
   "execution_count": 292,
   "metadata": {},
   "outputs": [],
   "source": [
    "values_auc_train = []\n",
    "iqr_auc_train = []\n",
    "batch_size = []\n",
    "learning_rate = []\n",
    "for forlder_name in folder_names:\n",
    "    #folder_names = sorted(os.listdir(path=path_to_results + path_to_example))\n",
    "    path_temp = os.path.join(path_to_results,path_to_example, forlder_name, \"auc_train\")\n",
    "    path_meta = os.path.join(path_to_results,path_to_example, forlder_name, \"meta_tags.csv\")\n",
    "    \n",
    "    meta_data = pd.read_csv(path_meta)\n",
    "    batch_size.append(int(meta_data.loc[meta_data['key'] == 'batch_size', 'value']))\n",
    "    learning_rate.append(float(meta_data.loc[meta_data['key'] == 'lr', 'value']))\n",
    "    \n",
    "    file_names = sorted(os.listdir(path=path_temp))\n",
    "    file_names = [x for x in file_names if not x.startswith('.')]\n",
    "    \n",
    "    # file_names2 = sorted(os.listdir(path=path_temp2))\n",
    "    # file_names2 = [x for x in file_names2 if not x.startswith('.')]\n",
    "    value_temp =[]\n",
    "    for event in summary_iterator(os.path.join(path_temp,file_names[0])):\n",
    "        for value in event.summary.value:\n",
    "            value_temp.append(value.simple_value)\n",
    "    value_temp = np.array(value_temp)\n",
    "    value_temp = value_temp[~np.isnan(value_temp)]\n",
    "    values_auc_train.append(value_temp)\n",
    "    iqr_auc_train.append(iqr(value_temp, rng=(0,100)))"
   ]
  },
  {
   "cell_type": "code",
   "execution_count": 300,
   "metadata": {},
   "outputs": [],
   "source": [
    "df_results = pd.DataFrame({'batch':batch_size,'learning':learning_rate, 'iqr':iqr_auc_train})"
   ]
  },
  {
   "cell_type": "code",
   "execution_count": 301,
   "metadata": {},
   "outputs": [
    {
     "data": {
      "text/html": [
       "<div>\n",
       "<style scoped>\n",
       "    .dataframe tbody tr th:only-of-type {\n",
       "        vertical-align: middle;\n",
       "    }\n",
       "\n",
       "    .dataframe tbody tr th {\n",
       "        vertical-align: top;\n",
       "    }\n",
       "\n",
       "    .dataframe thead th {\n",
       "        text-align: right;\n",
       "    }\n",
       "</style>\n",
       "<table border=\"1\" class=\"dataframe\">\n",
       "  <thead>\n",
       "    <tr style=\"text-align: right;\">\n",
       "      <th></th>\n",
       "      <th>batch</th>\n",
       "      <th>learning</th>\n",
       "      <th>iqr</th>\n",
       "    </tr>\n",
       "  </thead>\n",
       "  <tbody>\n",
       "    <tr>\n",
       "      <th>0</th>\n",
       "      <td>32</td>\n",
       "      <td>1.000000e-03</td>\n",
       "      <td>1.000000</td>\n",
       "    </tr>\n",
       "    <tr>\n",
       "      <th>1</th>\n",
       "      <td>32</td>\n",
       "      <td>1.000000e-04</td>\n",
       "      <td>1.000000</td>\n",
       "    </tr>\n",
       "    <tr>\n",
       "      <th>2</th>\n",
       "      <td>1024</td>\n",
       "      <td>1.000000e-03</td>\n",
       "      <td>0.421919</td>\n",
       "    </tr>\n",
       "    <tr>\n",
       "      <th>3</th>\n",
       "      <td>512</td>\n",
       "      <td>1.000000e-03</td>\n",
       "      <td>0.368350</td>\n",
       "    </tr>\n",
       "    <tr>\n",
       "      <th>4</th>\n",
       "      <td>512</td>\n",
       "      <td>1.000000e-04</td>\n",
       "      <td>0.193938</td>\n",
       "    </tr>\n",
       "    <tr>\n",
       "      <th>5</th>\n",
       "      <td>512</td>\n",
       "      <td>1.000000e-05</td>\n",
       "      <td>0.197153</td>\n",
       "    </tr>\n",
       "    <tr>\n",
       "      <th>6</th>\n",
       "      <td>512</td>\n",
       "      <td>1.000000e-06</td>\n",
       "      <td>0.229777</td>\n",
       "    </tr>\n",
       "    <tr>\n",
       "      <th>7</th>\n",
       "      <td>512</td>\n",
       "      <td>1.000000e-07</td>\n",
       "      <td>0.206723</td>\n",
       "    </tr>\n",
       "    <tr>\n",
       "      <th>8</th>\n",
       "      <td>32</td>\n",
       "      <td>1.000000e-05</td>\n",
       "      <td>1.000000</td>\n",
       "    </tr>\n",
       "    <tr>\n",
       "      <th>9</th>\n",
       "      <td>32</td>\n",
       "      <td>1.000000e-06</td>\n",
       "      <td>1.000000</td>\n",
       "    </tr>\n",
       "    <tr>\n",
       "      <th>10</th>\n",
       "      <td>32</td>\n",
       "      <td>1.000000e-07</td>\n",
       "      <td>1.000000</td>\n",
       "    </tr>\n",
       "    <tr>\n",
       "      <th>11</th>\n",
       "      <td>32</td>\n",
       "      <td>1.000000e-08</td>\n",
       "      <td>1.000000</td>\n",
       "    </tr>\n",
       "    <tr>\n",
       "      <th>12</th>\n",
       "      <td>64</td>\n",
       "      <td>1.000000e-03</td>\n",
       "      <td>0.781127</td>\n",
       "    </tr>\n",
       "    <tr>\n",
       "      <th>13</th>\n",
       "      <td>128</td>\n",
       "      <td>1.000000e-03</td>\n",
       "      <td>0.650584</td>\n",
       "    </tr>\n",
       "    <tr>\n",
       "      <th>14</th>\n",
       "      <td>256</td>\n",
       "      <td>1.000000e-03</td>\n",
       "      <td>0.482632</td>\n",
       "    </tr>\n",
       "    <tr>\n",
       "      <th>15</th>\n",
       "      <td>512</td>\n",
       "      <td>1.000000e-03</td>\n",
       "      <td>0.412141</td>\n",
       "    </tr>\n",
       "  </tbody>\n",
       "</table>\n",
       "</div>"
      ],
      "text/plain": [
       "    batch      learning       iqr\n",
       "0      32  1.000000e-03  1.000000\n",
       "1      32  1.000000e-04  1.000000\n",
       "2    1024  1.000000e-03  0.421919\n",
       "3     512  1.000000e-03  0.368350\n",
       "4     512  1.000000e-04  0.193938\n",
       "5     512  1.000000e-05  0.197153\n",
       "6     512  1.000000e-06  0.229777\n",
       "7     512  1.000000e-07  0.206723\n",
       "8      32  1.000000e-05  1.000000\n",
       "9      32  1.000000e-06  1.000000\n",
       "10     32  1.000000e-07  1.000000\n",
       "11     32  1.000000e-08  1.000000\n",
       "12     64  1.000000e-03  0.781127\n",
       "13    128  1.000000e-03  0.650584\n",
       "14    256  1.000000e-03  0.482632\n",
       "15    512  1.000000e-03  0.412141"
      ]
     },
     "execution_count": 301,
     "metadata": {},
     "output_type": "execute_result"
    }
   ],
   "source": [
    "df_results"
   ]
  },
  {
   "cell_type": "code",
   "execution_count": 306,
   "metadata": {},
   "outputs": [
    {
     "ename": "ModuleNotFoundError",
     "evalue": "No module named 'seaborn'",
     "output_type": "error",
     "traceback": [
      "\u001b[0;31m---------------------------------------------------------------------------\u001b[0m",
      "\u001b[0;31mModuleNotFoundError\u001b[0m                       Traceback (most recent call last)",
      "\u001b[0;32m<ipython-input-306-c21944944b4c>\u001b[0m in \u001b[0;36m<module>\u001b[0;34m\u001b[0m\n\u001b[0;32m----> 1\u001b[0;31m \u001b[0;32mimport\u001b[0m \u001b[0mseaborn\u001b[0m\u001b[0;34m\u001b[0m\u001b[0;34m\u001b[0m\u001b[0m\n\u001b[0m\u001b[1;32m      2\u001b[0m \u001b[0mseaborn\u001b[0m\u001b[0;34m.\u001b[0m\u001b[0mset\u001b[0m\u001b[0;34m(\u001b[0m\u001b[0mstyle\u001b[0m\u001b[0;34m=\u001b[0m\u001b[0;34m'ticks'\u001b[0m\u001b[0;34m)\u001b[0m\u001b[0;34m\u001b[0m\u001b[0;34m\u001b[0m\u001b[0m\n",
      "\u001b[0;31mModuleNotFoundError\u001b[0m: No module named 'seaborn'"
     ]
    }
   ],
   "source": [
    "import seaborn\n",
    "seaborn.set(style='ticks')"
   ]
  },
  {
   "cell_type": "code",
   "execution_count": null,
   "metadata": {},
   "outputs": [],
   "source": [
    "fg = seaborn.FacetGrid(data=df_results, hue='learning',  aspect=1.61)\n",
    "fg.map(pyplot.scatter, 'Weight (kg)', 'Height (cm)').add_legend()"
   ]
  },
  {
   "cell_type": "code",
   "execution_count": 309,
   "metadata": {},
   "outputs": [
    {
     "ename": "NameError",
     "evalue": "name 'axi1' is not defined",
     "output_type": "error",
     "traceback": [
      "\u001b[0;31m---------------------------------------------------------------------------\u001b[0m",
      "\u001b[0;31mNameError\u001b[0m                                 Traceback (most recent call last)",
      "\u001b[0;32m<ipython-input-309-c52ab9d27cf7>\u001b[0m in \u001b[0;36m<module>\u001b[0;34m\u001b[0m\n\u001b[1;32m      3\u001b[0m                       \u001b[0mc\u001b[0m\u001b[0;34m=\u001b[0m\u001b[0;34m'learning'\u001b[0m\u001b[0;34m,\u001b[0m\u001b[0;34m\u001b[0m\u001b[0;34m\u001b[0m\u001b[0m\n\u001b[1;32m      4\u001b[0m                       colormap='viridis')\n\u001b[0;32m----> 5\u001b[0;31m \u001b[0maxi1\u001b[0m\u001b[0;34m.\u001b[0m\u001b[0mxlabel\u001b[0m\u001b[0;34m(\u001b[0m\u001b[0;34m'e'\u001b[0m\u001b[0;34m)\u001b[0m\u001b[0;34m\u001b[0m\u001b[0;34m\u001b[0m\u001b[0m\n\u001b[0m",
      "\u001b[0;31mNameError\u001b[0m: name 'axi1' is not defined"
     ]
    },
    {
     "data": {
      "image/png": "[encoded data removed]",
      "text/plain": [
       "<Figure size 432x288 with 2 Axes>"
      ]
     },
     "metadata": {
      "needs_background": "light"
     },
     "output_type": "display_data"
    }
   ],
   "source": [
    "ax1 = df_results.plot.scatter(x='batch',\n",
    "                      y='iqr',\n",
    "                      c='learning',\n",
    "                      colormap='viridis')\n",
    "axi1.xlabel('e')"
   ]
  },
  {
   "cell_type": "code",
   "execution_count": null,
   "metadata": {},
   "outputs": [],
   "source": [
    "colors = {1.e-03,:'red','Al':'blue','AlCu':'white','CuAl':'white'}"
   ]
  },
  {
   "cell_type": "code",
   "execution_count": null,
   "metadata": {},
   "outputs": [],
   "source": [
    "colors={'Cu':'red','Al':'blue','AlCu':'white','CuAl':'white'}\n",
    "plt.figure(figsize=(7,5))\n",
    "plt.scatter(df_active['VR'],df_active['V_0'],c=df_active['Cu/Al'].apply(lambda x: colors[x]),alpha=0.3,marker='^')\n",
    "plt.scatter(df_active['VR'],df_active['V0_VI_delta_t2'],c=df_active['Cu/Al'].apply(lambda x: colors[x]),alpha=0.5,marker='o')\n",
    "plt.scatter(df_active['VR'],df_active['V0_Vt_delta_t2'],c=df_active['Cu/Al'].apply(lambda x: colors[x]),alpha=1.0,marker='+')\n",
    "plt.axhline(y=median_cu,color='red', linestyle='-') # y = median\n",
    "plt.text(28,median_cu+0.5,'Median %s'%str(median_cu.round(3)),color=\"red\",fontsize=12)\n",
    "plt.axhline(y=median_al,color='blue', linestyle='-') # y = median\n",
    "plt.text(28,median_al+0.5,'Median %s'%str(median_al.round(3)),color=\"blue\",fontsize=12)\n",
    "leg1=plt.legend(handlesM,lablesM,loc=4,framealpha=1,fontsize=10)\n",
    "leg2=plt.legend(handlesC,lablesC,loc=1,framealpha=1,fontsize=15,markerscale=4)\n",
    "plt.rc('xtick',labelsize=12)\n",
    "plt.rc('ytick',labelsize=12)\n",
    "plt.gca().add_artist(leg1)\n",
    "plt.xlabel('V/R Load',fontsize=20)\n",
    "plt.ylabel('$V_0$',fontsize=20)\n",
    "plt.title('Comparison of methods with dt=400us',fontsize=20)\n",
    "plt.savefig('/home/obando/HAVEN/Plots/V0/VR_V0_CompareMeth_delta2.pdf')\n",
    "plt.show()"
   ]
  },
  {
   "cell_type": "code",
   "execution_count": 295,
   "metadata": {},
   "outputs": [
    {
     "data": {
      "image/png": "[encoded data removed]",
      "text/plain": [
       "<Figure size 864x360 with 2 Axes>"
      ]
     },
     "metadata": {
      "needs_background": "light"
     },
     "output_type": "display_data"
    }
   ],
   "source": [
    "plt.figure(figsize=(12,5))\n",
    "plt.subplot(1,2,1)\n",
    "plt.plot(np.array(batch_size),np.array(iqr_auc_train),'o')\n",
    "plt.xlabel('batch size')\n",
    "plt.ylabel('iqr')\n",
    "plt.subplot(1,2,2)\n",
    "plt.plot(np.array(learning_rate),np.array(iqr_auc_train),'o')\n",
    "plt.xlabel('Learning rate')\n",
    "plt.ylabel('iqr')\n",
    "plt.tight_layout()"
   ]
  },
  {
   "cell_type": "code",
   "execution_count": 294,
   "metadata": {},
   "outputs": [
    {
     "data": {
      "image/png": "[encoded data removed]",
      "text/plain": [
       "<Figure size 432x288 with 1 Axes>"
      ]
     },
     "metadata": {
      "needs_background": "light"
     },
     "output_type": "display_data"
    }
   ],
   "source": [
    "fig = plt.figure()\n",
    "ax = Axes3D(fig)\n",
    "ax.scatter(np.array(batch_size), np.array(learning_rate), np.array(iqr_auc_train))\n",
    "\n",
    "ax.set_xlabel('batch_size')\n",
    "ax.set_ylabel('learning_rate')\n",
    "ax.set_zlabel('iqr_auc_train')\n",
    "\n",
    "plt.show()"
   ]
  },
  {
   "cell_type": "code",
   "execution_count": 163,
   "metadata": {},
   "outputs": [
    {
     "data": {
      "text/plain": [
       "('/Users/obando_c/Documents/Neuro/EmergencyBraking/results/4__label_collison/lightning_logs/version_0/auc_train',\n",
       " 'events.out.tfevents.1604423527.TOLA320005482.69144.8')"
      ]
     },
     "execution_count": 163,
     "metadata": {},
     "output_type": "execute_result"
    }
   ],
   "source": [
    "path_temp,file_names[0]"
   ]
  },
  {
   "cell_type": "code",
   "execution_count": 114,
   "metadata": {},
   "outputs": [],
   "source": [
    "x = np.array(values_auc_train)\n",
    "x = x[~np.isnan(x)]"
   ]
  },
  {
   "cell_type": "code",
   "execution_count": 147,
   "metadata": {},
   "outputs": [
    {
     "data": {
      "text/plain": [
       "1.0"
      ]
     },
     "execution_count": 147,
     "metadata": {},
     "output_type": "execute_result"
    }
   ],
   "source": [
    "from scipy.stats import iqr\n",
    "iqr(x, rng=(0,100))"
   ]
  },
  {
   "cell_type": "code",
   "execution_count": 138,
   "metadata": {},
   "outputs": [
    {
     "name": "stdout",
     "output_type": "stream",
     "text": [
      "2460\n",
      "23399\n",
      "0.13426911129957406\n",
      "0.7857142686843872\n"
     ]
    }
   ],
   "source": [
    "print(len(np.where(x<0.6)[0]))\n",
    "print(len(x))\n",
    "print(np.std(x))\n",
    "print(np.percentile(x, 50))"
   ]
  },
  {
   "cell_type": "code",
   "execution_count": 132,
   "metadata": {},
   "outputs": [
    {
     "name": "stdout",
     "output_type": "stream",
     "text": [
      "19614\n",
      "0.7702947508360164\n"
     ]
    }
   ],
   "source": [
    "print(len(np.where(x<0.9)[0]))\n",
    "print(np.mean(x))"
   ]
  },
  {
   "cell_type": "code",
   "execution_count": 140,
   "metadata": {},
   "outputs": [
    {
     "data": {
      "text/plain": [
       "[<matplotlib.lines.Line2D at 0xb465b3b10>]"
      ]
     },
     "execution_count": 140,
     "metadata": {},
     "output_type": "execute_result"
    },
    {
     "data": {
      "image/png": "[encoded data removed]",
      "text/plain": [
       "<Figure size 432x288 with 1 Axes>"
      ]
     },
     "metadata": {
      "needs_background": "light"
     },
     "output_type": "display_data"
    }
   ],
   "source": [
    "plt.plot(x,'o')"
   ]
  },
  {
   "cell_type": "code",
   "execution_count": 141,
   "metadata": {},
   "outputs": [
    {
     "data": {
      "text/plain": [
       "array([0.36296296, 0.4679487 , 0.21839081, ..., 0.78571427, 0.62179488,\n",
       "       0.95512819])"
      ]
     },
     "execution_count": 141,
     "metadata": {},
     "output_type": "execute_result"
    }
   ],
   "source": [
    "x"
   ]
  },
  {
   "cell_type": "markdown",
   "metadata": {},
   "source": [
    "## Checkpoint"
   ]
  },
  {
   "cell_type": "code",
   "execution_count": 3,
   "metadata": {},
   "outputs": [
    {
     "name": "stdout",
     "output_type": "stream",
     "text": [
      "the name of the dictionary is epoch\n",
      "the name of the dictionary is global_step\n",
      "the name of the dictionary is checkpoint_callback_best\n",
      "the name of the dictionary is optimizer_states\n",
      "the name of the dictionary is lr_schedulers\n",
      "the name of the dictionary is state_dict\n",
      "the name of the dictionary is hparams\n",
      "the name of the dictionary is hparams_type\n"
     ]
    }
   ],
   "source": [
    "# Local path to checkpoint folder\n",
    "path_to_example_checkpoints = 'checkpoints/epoch=117.ckpt'\n",
    "path_to_checkpoint = os.path.normpath(os.path.join(path_to_results,path_to_example, path_to_example_checkpoints))\n",
    "\n",
    "checkpoint = torch.load(path_to_checkpoint)\n",
    "for name,dict_ in checkpoint.items():\n",
    "    print('the name of the dictionary is '+ name)"
   ]
  },
  {
   "cell_type": "markdown",
   "metadata": {},
   "source": [
    "### Look inside data\n",
    "\n",
    "**epoch**  &emsp; &emsp; &emsp;  &emsp;&emsp;&emsp;&emsp; &emsp;&emsp; &emsp; &nbsp;  *epoch*  <br>\n",
    "**global_step**  &emsp; &emsp; &emsp;&emsp;  &emsp; &emsp; &emsp; &nbsp;*global step*  <br>\n",
    "**checkpoint_callback_best** &emsp; *check point callback best* <br>\n",
    "**optimizer_states** &emsp; &emsp; &emsp; &emsp; &emsp;  *Optimizer states* <br>\n",
    "**lr_schedulers** &emsp; &emsp; &emsp; &emsp; &emsp; &emsp;  *lr_schedulers* <br>\n",
    "**state_dict** &emsp; &emsp; &emsp; &emsp; &emsp; &emsp;&emsp;&emsp;  *Parameters of each layer of the NN* <br>\n",
    "**hparams** &emsp; &emsp; &emsp; &emsp; &emsp; &emsp;&emsp;&emsp;  *hyperparameters* <br>\n",
    "**hparams_type** &emsp; &emsp; &emsp; &emsp;&emsp;&emsp;  *namespace* <br>"
   ]
  },
  {
   "cell_type": "code",
   "execution_count": 26,
   "metadata": {},
   "outputs": [
    {
     "data": {
      "text/plain": [
       "118"
      ]
     },
     "execution_count": 26,
     "metadata": {},
     "output_type": "execute_result"
    }
   ],
   "source": [
    "epoch = checkpoint['epoch']\n",
    "epoch"
   ]
  },
  {
   "cell_type": "code",
   "execution_count": 27,
   "metadata": {},
   "outputs": [
    {
     "data": {
      "text/plain": [
       "118"
      ]
     },
     "execution_count": 27,
     "metadata": {},
     "output_type": "execute_result"
    }
   ],
   "source": [
    "global_step = checkpoint['global_step']\n",
    "global_step"
   ]
  },
  {
   "cell_type": "code",
   "execution_count": 28,
   "metadata": {},
   "outputs": [
    {
     "data": {
      "text/plain": [
       "0.1415727287530899"
      ]
     },
     "execution_count": 28,
     "metadata": {},
     "output_type": "execute_result"
    }
   ],
   "source": [
    "checkpoint_callback_best = checkpoint['checkpoint_callback_best']\n",
    "checkpoint_callback_best"
   ]
  },
  {
   "cell_type": "code",
   "execution_count": 18,
   "metadata": {},
   "outputs": [
    {
     "name": "stdout",
     "output_type": "stream",
     "text": [
      "the name of the dictionary is state\n",
      "the name of the dictionary is param_groups\n"
     ]
    }
   ],
   "source": [
    "optimizer_states = checkpoint['optimizer_states']\n",
    "type(optimizer_states[0])\n",
    "for name,dict_ in optimizer_states[0].items():\n",
    "    print('the name of the dictionary is '+ name)"
   ]
  },
  {
   "cell_type": "code",
   "execution_count": 19,
   "metadata": {},
   "outputs": [
    {
     "name": "stdout",
     "output_type": "stream",
     "text": [
      "the name of the dictionary is 112364145232\n",
      "the name of the dictionary is 112364145952\n",
      "the name of the dictionary is 112364146272\n",
      "the name of the dictionary is 112364179856\n",
      "the name of the dictionary is 112364180016\n",
      "the name of the dictionary is 112364180816\n",
      "the name of the dictionary is 112364180976\n"
     ]
    }
   ],
   "source": [
    "optimizer_states_state = optimizer_states[0]['state']\n",
    "for name,dict_ in optimizer_states_state.items():\n",
    "    print('the name of the dictionary is '+ str(name))"
   ]
  },
  {
   "cell_type": "code",
   "execution_count": 56,
   "metadata": {},
   "outputs": [
    {
     "data": {
      "text/plain": [
       "[{'lr': 0.001,\n",
       "  'betas': (0.9, 0.999),\n",
       "  'eps': 1e-08,\n",
       "  'weight_decay': 0.01,\n",
       "  'amsgrad': False,\n",
       "  'params': [112364145232,\n",
       "   112364145952,\n",
       "   112364146272,\n",
       "   112364179856,\n",
       "   112364180016,\n",
       "   112364180816,\n",
       "   112364180976]}]"
      ]
     },
     "execution_count": 56,
     "metadata": {},
     "output_type": "execute_result"
    }
   ],
   "source": [
    "optimizer_states_param_groups = optimizer_states[0]['param_groups']\n",
    "optimizer_states_param_groups"
   ]
  },
  {
   "cell_type": "code",
   "execution_count": 36,
   "metadata": {},
   "outputs": [
    {
     "data": {
      "text/plain": [
       "[]"
      ]
     },
     "execution_count": 36,
     "metadata": {},
     "output_type": "execute_result"
    }
   ],
   "source": [
    "lr_schedulers = checkpoint['lr_schedulers']\n",
    "lr_schedulers"
   ]
  },
  {
   "cell_type": "code",
   "execution_count": 38,
   "metadata": {},
   "outputs": [
    {
     "name": "stdout",
     "output_type": "stream",
     "text": [
      "the name of the dictionary is net.spatial_filtering.transform.weight\n",
      "the name of the dictionary is net.conv_block_1.transform.0.weight\n",
      "the name of the dictionary is net.conv_block_1.transform.0.bias\n",
      "the name of the dictionary is net.conv_block_2.transform.0.weight\n",
      "the name of the dictionary is net.conv_block_2.transform.0.bias\n",
      "the name of the dictionary is net.dense_block.transform.1.weight\n",
      "the name of the dictionary is net.dense_block.transform.1.bias\n"
     ]
    }
   ],
   "source": [
    "state_dict = checkpoint['state_dict']\n",
    "for name,dict_ in state_dict.items():\n",
    "    print('the name of the dictionary is '+ name)"
   ]
  },
  {
   "cell_type": "code",
   "execution_count": 39,
   "metadata": {},
   "outputs": [
    {
     "data": {
      "text/plain": [
       "{'experiment': '4__label_collison',\n",
       " 'fold': 0,\n",
       " 'n_epochs': 1000,\n",
       " 'batch_size': 1024,\n",
       " 'lr': 0.001,\n",
       " 'n_virtual_channels': 10,\n",
       " 'convolution_size': 16,\n",
       " 'pool_size': 8,\n",
       " 'n_hidden_channels': 8,\n",
       " 'n_time_series': 320,\n",
       " 'n_channels': 59}"
      ]
     },
     "execution_count": 39,
     "metadata": {},
     "output_type": "execute_result"
    }
   ],
   "source": [
    "hparams = checkpoint['hparams']\n",
    "hparams"
   ]
  },
  {
   "cell_type": "code",
   "execution_count": 40,
   "metadata": {},
   "outputs": [
    {
     "data": {
      "text/plain": [
       "'namespace'"
      ]
     },
     "execution_count": 40,
     "metadata": {},
     "output_type": "execute_result"
    }
   ],
   "source": [
    "hparams_type = checkpoint['hparams_type']\n",
    "hparams_type"
   ]
  },
  {
   "cell_type": "markdown",
   "metadata": {},
   "source": [
    "## sen_test"
   ]
  },
  {
   "cell_type": "code",
   "execution_count": 13,
   "metadata": {},
   "outputs": [],
   "source": [
    "path_to_example_sen_train = 'sen_train/events.out.tfevents.1599641646.TOLA320005482.8676.6'\n",
    "path_to_sen_train = os.path.normpath(os.path.join(path_to_results,path_to_example, path_to_example_sen_train))"
   ]
  }
 ],
 "metadata": {
  "kernelspec": {
   "display_name": "EmergencyBraking",
   "language": "python",
   "name": "emergencybraking"
  },
  "language_info": {
   "codemirror_mode": {
    "name": "ipython",
    "version": 3
   },
   "file_extension": ".py",
   "mimetype": "text/x-python",
   "name": "python",
   "nbconvert_exporter": "python",
   "pygments_lexer": "ipython3",
   "version": "3.7.7"
  }
 },
 "nbformat": 4,
 "nbformat_minor": 4
}
