{
 "cells": [
  {
   "cell_type": "markdown",
   "metadata": {},
   "source": [
    "# fPCA applied to spatiotemporal reconstruction of EEG data around braking event  \n"
   ]
  },
  {
   "cell_type": "code",
   "execution_count": 1,
   "metadata": {},
   "outputs": [],
   "source": [
    "import matplotlib.pyplot as plt\n",
    "import numpy as np\n",
    "import h5py\n",
    "import pandas as pd \n",
    "import os"
   ]
  },
  {
   "cell_type": "markdown",
   "metadata": {},
   "source": [
    "## <font color='blue'> Import learning data </font>"
   ]
  },
  {
   "cell_type": "code",
   "execution_count": 2,
   "metadata": {},
   "outputs": [
    {
     "name": "stdout",
     "output_type": "stream",
     "text": [
      "Items in mnt [('box', <HDF5 dataset \"box\": shape (70, 2), type \"<f8\">), ('box_sz', <HDF5 dataset \"box_sz\": shape (70, 2), type \"<f8\">), ('clab', <HDF5 dataset \"clab\": shape (69, 1), type \"|O\">), ('pos_3d', <HDF5 dataset \"pos_3d\": shape (69, 3), type \"<f8\">), ('scale_box', <HDF5 dataset \"scale_box\": shape (1, 2), type \"<f8\">), ('scale_box_sz', <HDF5 dataset \"scale_box_sz\": shape (1, 2), type \"<f8\">), ('x', <HDF5 dataset \"x\": shape (1, 69), type \"<f8\">), ('y', <HDF5 dataset \"y\": shape (1, 69), type \"<f8\">)]\n",
      "(59, 3)\n"
     ]
    }
   ],
   "source": [
    "# Import spatial mesh \n",
    "# Extract data mnt - contains information on the EVENTS\n",
    "path_data_mat = '/Users/obando_c/Documents/Neuro/EmergencyBraking/Data/Raw/'\n",
    "file_name = \"VPja.mat\" # VPja.mat ; VPbax.mat\n",
    "with h5py.File(path_data_mat + file_name, 'r') as f:\n",
    "    mnt = f.get('mnt')\n",
    "    print(\"Items in mnt\", list(mnt.items()) )\n",
    "    x_pos_allChannels = np.array(mnt.get('x'))\n",
    "    y_pos_allChannels = np.array(mnt.get('y'))\n",
    "    pos3d_allChannels = np.array(mnt.get('pos_3d')) # coord in 3D\n",
    "\n",
    "pos3d_eegChannels = pos3d_allChannels[np.delete(np.arange(61), [0, 5])]\n",
    "print(pos3d_eegChannels.shape)\n",
    "#spatiotemp_coord = np.repeat(pos3d_eegChannels[np.newaxis,:, :], 320, axis=0)"
   ]
  },
  {
   "cell_type": "code",
   "execution_count": 2,
   "metadata": {},
   "outputs": [],
   "source": [
    "#path_data_explore = '/Users/obando_c/Documents/Neuro/EmergencyBraking/Data/post_processed/AllSubjects_events/'\n",
    "#files = sorted([elt for elt in os.listdir(path_data_explore) if elt[-4:] == '.npy'],\n",
    "#                   key=(lambda x: int(x.split('_')[2])))\n",
    "#ex = np.load(path_data_explore + \"VPae.mat_segment_1_event.npy\")\n",
    "#ex_pd = pd.DataFrame(data = ex)"
   ]
  },
  {
   "cell_type": "code",
   "execution_count": 6,
   "metadata": {},
   "outputs": [],
   "source": [
    "# DO NOT RUN\n",
    "path_data_explore = '/Users/obando_c/Documents/Neuro/EmergencyBraking/Data/post_processed/AllSubjects_events/'\n",
    "files = sorted([elt for elt in os.listdir(path_data_explore) if elt[-4:] == '.npy'],\n",
    "                   key=(lambda x: int(x.split('_')[2])))\n",
    "df_eeg_events = pd.DataFrame([])\n",
    "for file in files:\n",
    "    df_interval = pd.DataFrame(data = np.load(os.path.join(path_data_explore,file)))\n",
    "    df_eeg_events = df_eeg_events.append(df_interval)\n",
    "df_eeg_events.to_csv(r'df_eeg_only_events_all_subjects.csv', index = False)"
   ]
  },
  {
   "cell_type": "code",
   "execution_count": 7,
   "metadata": {},
   "outputs": [
    {
     "data": {
      "text/plain": [
       "3908"
      ]
     },
     "execution_count": 7,
     "metadata": {},
     "output_type": "execute_result"
    }
   ],
   "source": [
    "len(files)"
   ]
  },
  {
   "cell_type": "code",
   "execution_count": 11,
   "metadata": {},
   "outputs": [],
   "source": [
    "df_eeg_events_file = 'df_eeg_only_events_all_subjects.csv' # Corresponds to VPja\n",
    "#Lecture\n",
    "df_eeg_events = pd.read_csv( df_eeg_events_file )"
   ]
  },
  {
   "cell_type": "code",
   "execution_count": 12,
   "metadata": {},
   "outputs": [],
   "source": [
    "#Traitement  \n",
    "NPeeg = np.asarray(df_eeg_events)\n",
    "NPeegC = NPeeg-NPeeg.mean(axis=1).reshape(-1,1) # Pour qu'ils soient comparables\n",
    "mu_t    = NPeegC.mean(axis=0) # Pour avoir des processus centrés"
   ]
  },
  {
   "cell_type": "code",
   "execution_count": 13,
   "metadata": {},
   "outputs": [
    {
     "data": {
      "text/plain": [
       "(230572, 320)"
      ]
     },
     "execution_count": 13,
     "metadata": {},
     "output_type": "execute_result"
    }
   ],
   "source": [
    "df_eeg_events.shape"
   ]
  },
  {
   "cell_type": "code",
   "execution_count": 14,
   "metadata": {},
   "outputs": [
    {
     "data": {
      "text/plain": [
       "(230572, 320)"
      ]
     },
     "execution_count": 14,
     "metadata": {},
     "output_type": "execute_result"
    }
   ],
   "source": [
    "NPeeg.shape"
   ]
  },
  {
   "cell_type": "markdown",
   "metadata": {},
   "source": [
    "##  <font color='blue'>FPCA </font>"
   ]
  },
  {
   "cell_type": "code",
   "execution_count": 5,
   "metadata": {},
   "outputs": [
    {
     "ename": "NameError",
     "evalue": "name 'files' is not defined",
     "output_type": "error",
     "traceback": [
      "\u001b[0;31m-------------------------------------------------------------------\u001b[0m",
      "\u001b[0;31mNameError\u001b[0m                         Traceback (most recent call last)",
      "\u001b[0;32m<ipython-input-5-809032a706da>\u001b[0m in \u001b[0;36m<module>\u001b[0;34m\u001b[0m\n\u001b[1;32m      1\u001b[0m \u001b[0;31m# Building the spatio temporal mesh\u001b[0m\u001b[0;34m\u001b[0m\u001b[0;34m\u001b[0m\u001b[0;34m\u001b[0m\u001b[0m\n\u001b[0;32m----> 2\u001b[0;31m \u001b[0mnSample\u001b[0m \u001b[0;34m=\u001b[0m \u001b[0mlen\u001b[0m\u001b[0;34m(\u001b[0m\u001b[0mfiles\u001b[0m\u001b[0;34m)\u001b[0m \u001b[0;31m#\u001b[0m\u001b[0;34m\u001b[0m\u001b[0;34m\u001b[0m\u001b[0m\n\u001b[0m\u001b[1;32m      3\u001b[0m \u001b[0mspatiotemp_mesh\u001b[0m \u001b[0;34m=\u001b[0m \u001b[0;34m[\u001b[0m\u001b[0;34m]\u001b[0m\u001b[0;34m\u001b[0m\u001b[0;34m\u001b[0m\u001b[0m\n\u001b[1;32m      4\u001b[0m \u001b[0;32mfor\u001b[0m \u001b[0mp\u001b[0m \u001b[0;32min\u001b[0m \u001b[0mpos3d_eegChannels\u001b[0m\u001b[0;34m:\u001b[0m\u001b[0;34m\u001b[0m\u001b[0;34m\u001b[0m\u001b[0m\n\u001b[1;32m      5\u001b[0m     \u001b[0mxi\u001b[0m\u001b[0;34m,\u001b[0m \u001b[0myi\u001b[0m\u001b[0;34m,\u001b[0m \u001b[0mzi\u001b[0m \u001b[0;34m=\u001b[0m \u001b[0mtuple\u001b[0m\u001b[0;34m(\u001b[0m\u001b[0mp\u001b[0m\u001b[0;34m)\u001b[0m\u001b[0;34m\u001b[0m\u001b[0;34m\u001b[0m\u001b[0m\n",
      "\u001b[0;31mNameError\u001b[0m: name 'files' is not defined"
     ]
    }
   ],
   "source": [
    "# Building the spatio temporal mesh \n",
    "nSample = len(files) # \n",
    "spatiotemp_mesh = []\n",
    "for p in pos3d_eegChannels:\n",
    "    xi, yi, zi = tuple(p)\n",
    "    for ti in range(320):\n",
    "        spatiotemp_mesh.append([xi, yi, zi, ti])"
   ]
  },
  {
   "cell_type": "code",
   "execution_count": 18,
   "metadata": {},
   "outputs": [],
   "source": [
    "# Transforming my EEG into the format of the mesh - each entry must correspond \n",
    "nn_channels = 59\n",
    "values = []\n",
    "for k in range(len(files)):\n",
    "    start = k * 59\n",
    "    end = start + 59\n",
    "    #values.append( NPeegC[start:end].ravel() ) # \n",
    "    values.append( (NPeegC[start:end,:].T - mu_t.reshape(-1,1)).T.ravel() ) # Pour avoir des processus centrés"
   ]
  },
  {
   "cell_type": "code",
   "execution_count": 51,
   "metadata": {},
   "outputs": [],
   "source": [
    "# OpenTurns:\n",
    "import openturns as ot\n",
    "num_f = len(files)\n",
    "dim_ch_in = 1 # # corresponds to process_sample\n",
    "dim_ch_out = 1 # # corresponds to  field\n",
    "process_sample = ot.ProcessSample(ot.Mesh(spatiotemp_mesh), num_f, dim_ch_in) \n",
    "field          = ot.Field(ot.Mesh(spatiotemp_mesh), dim_ch_out) #le 1 correspond a la dimension du champ en sortie\n",
    "for k in range(process_sample.getSize()):\n",
    "    field.setValues(np.array(values[k]).reshape(-1,1))\n",
    "    process_sample[k] = field"
   ]
  },
  {
   "cell_type": "markdown",
   "metadata": {},
   "source": [
    "### <font color='green'> Etape 1: KarhunenLoeve </font>"
   ]
  },
  {
   "cell_type": "code",
   "execution_count": 25,
   "metadata": {},
   "outputs": [],
   "source": [
    "s = 0.0 # \n",
    "w_v = np.ones(59*320) \n",
    "algo = ot.KarhunenLoeveSVDAlgorithm(process_sample,w_v, s) #0.0 (=s) correspond au threshold sur les valeurs propres\n",
    "algo.run()\n",
    "\n",
    "fPCA     = algo.getResult() # The structure containing all the results of the Fredholm problem\n",
    "Xi       = fPCA.project(process_sample) # Project a function or a field on the eigenmodes basis.\n",
    "XiLambda = Xi * ot.Point([np.sqrt(x) for x in fPCA.getEigenValues()])"
   ]
  },
  {
   "cell_type": "code",
   "execution_count": 36,
   "metadata": {},
   "outputs": [
    {
     "data": {
      "image/png": "[encoded data removed]",
      "text/plain": [
       "<Figure size 432x288 with 1 Axes>"
      ]
     },
     "metadata": {
      "needs_background": "light"
     },
     "output_type": "display_data"
    }
   ],
   "source": [
    "T     = np.array([t for t in spatiotemp_mesh]) # .reshape(-1,1)\n",
    "V_app = ot.DualLinearCombinationFunction(fPCA.getModes(), np.array(XiLambda).T) # TO reconstruct the signal\n",
    "\n",
    "for k in range(process_sample.getSize()-1):\n",
    "    res = process_sample[k].getValues() - V_app .getMarginal(k)(T)\n",
    "    plt.plot (res)"
   ]
  },
  {
   "cell_type": "code",
   "execution_count": 43,
   "metadata": {},
   "outputs": [],
   "source": [
    "T     = np.array([t for t in spatiotemp_mesh]) # .reshape(-1,1)\n",
    "V_app = ot.DualLinearCombinationFunction(fPCA.getModes(), np.array(XiLambda).T) # TO reconstruct the signal\n",
    "\n",
    "mean_res = []\n",
    "for k in range(process_sample.getSize()):\n",
    "    res = process_sample[k].getValues() - V_app .getMarginal(k)(T)\n",
    "    mean_res.append(abs(np.asarray(res)).mean())"
   ]
  },
  {
   "cell_type": "code",
   "execution_count": 44,
   "metadata": {},
   "outputs": [
    {
     "data": {
      "text/plain": [
       "[<matplotlib.lines.Line2D at 0x2f397e9d0>]"
      ]
     },
     "execution_count": 44,
     "metadata": {},
     "output_type": "execute_result"
    },
    {
     "data": {
      "image/png": "[encoded data removed]",
      "text/plain": [
       "<Figure size 432x288 with 1 Axes>"
      ]
     },
     "metadata": {
      "needs_background": "light"
     },
     "output_type": "display_data"
    }
   ],
   "source": [
    "plt.plot(mean_res)"
   ]
  },
  {
   "cell_type": "markdown",
   "metadata": {},
   "source": [
    "### <font color='green'> Etape 2: PCA - erreur de troncature</font>"
   ]
  },
  {
   "cell_type": "code",
   "execution_count": 46,
   "metadata": {},
   "outputs": [
    {
     "data": {
      "text/plain": [
       "[<matplotlib.lines.Line2D at 0x2f3b1fe90>]"
      ]
     },
     "execution_count": 46,
     "metadata": {},
     "output_type": "execute_result"
    },
    {
     "data": {
      "image/png": "[encoded data removed]",
      "text/plain": [
       "<Figure size 1440x432 with 2 Axes>"
      ]
     },
     "metadata": {
      "needs_background": "light"
     },
     "output_type": "display_data"
    }
   ],
   "source": [
    "vp      = fPCA.getEigenValues() #  getEigenValues method enables to obtain the K first eigenvalues of the Karhunen Loeve decomposition\n",
    "pVar    = np.cumsum(vp) / np.sum(vp)\n",
    "fig, ax = plt.subplots(1,2, figsize=(20,6))\n",
    "\n",
    "ax[0].semilogy(vp)\n",
    "ax[1].plot (pVar)"
   ]
  },
  {
   "cell_type": "markdown",
   "metadata": {},
   "source": [
    "## <font color='blue'> La détection d'anomalies </font>"
   ]
  },
  {
   "cell_type": "code",
   "execution_count": 47,
   "metadata": {},
   "outputs": [
    {
     "name": "stdout",
     "output_type": "stream",
     "text": [
      "[93, 142, 207, 222, 260, 333, 349, 370, 518, 586, 782, 944, 988, 1098, 1125, 1206, 1235, 1290, 1292, 1348, 1353, 1511, 1529, 1532, 1604, 1644, 1650, 1665, 1767, 1788, 1941, 2039, 2109, 2130, 2143, 2145, 2189, 2739, 2747, 2921, 2955, 2997, 3233, 3253, 3299, 3668, 3718]\n"
     ]
    }
   ],
   "source": [
    "#Avec 2 modes\n",
    "nModes = 2\n",
    "X      = Xi.getMarginal ([k for k in range (nModes)])\n",
    "dist   = ot.KernelSmoothing().build(X)\n",
    "R      = np.array(dist.computePDF(Xi[:,:nModes]))\n",
    "\n",
    "Anomalies =[]\n",
    "for i in range (nSample-1):\n",
    "    if (dist.computePDF(Xi[i,:nModes]) == R.min()):\n",
    "        Anomalies.append(i)\n",
    "print (Anomalies)"
   ]
  },
  {
   "cell_type": "markdown",
   "metadata": {},
   "source": [
    "### <font color='green'> Minimum Level Set </font>\n",
    "\n",
    "On prend 2 modes (c'est plus facile pour visualiser), et on cherche la ligne de niveau qui minimise la surface sur le plan $\\xi [0]$ x $\\xi [1]$.\n",
    "\n",
    "Ensuite on peut tester sur pour un signal donné, sa projection sur les 2 axes principaux est à l'intérieur ou à l'extérieur de cette surface."
   ]
  },
  {
   "cell_type": "code",
   "execution_count": 48,
   "metadata": {},
   "outputs": [
    {
     "name": "stdout",
     "output_type": "stream",
     "text": [
      " Nb Outlier =  0\n"
     ]
    },
    {
     "data": {
      "image/png": "[encoded data removed]",
      "text/plain": [
       "<Figure size 790x590 with 1 Axes>"
      ]
     },
     "metadata": {
      "needs_background": "light"
     },
     "output_type": "display_data"
    }
   ],
   "source": [
    "import openturns.viewer as otv \n",
    "\n",
    "#Avec 2 modes\n",
    "nModes = 2\n",
    "X      = Xi.getMarginal ([k for k in range (nModes)])\n",
    "dist   = ot.KernelSmoothing().build(X)\n",
    "R      = np.array(dist.computePDF(Xi[:,:nModes]))\n",
    "\n",
    "Xin = {}; Xout = {};\n",
    "Inside = []; Outside = []\n",
    "ot.ResourceMap.SetAsUnsignedInteger(\"Distribution-MinimumVolumeLevelSetSamplingSize\", 10000)\n",
    "palette = ot.Contour.BuildDefaultPalette(8)\n",
    "graph = ot.Graph(\"\",\"\",\"\", True, \"topright\")\n",
    "contour = dist.drawPDF().getDrawable(0)\n",
    "for k, u in enumerate( [.8, .9, .95, .99, .995]):\n",
    "\n",
    "    l, t = dist.computeMinimumVolumeLevelSetWithThreshold(u)\n",
    "    contour.setLevels([t])\n",
    "    contour.setColor(palette[k])\n",
    "    contour.setLegend(str(u))\n",
    "    graph.add(contour)\n",
    "Xin = ot.Sample(0,nModes)\n",
    "Xout = ot.Sample(0,nModes)\n",
    "for i in range(Xi.getSize()):\n",
    "    x = Xi[i][0:nModes]\n",
    "    if l.contains(x): \n",
    "        Xin.add (x)\n",
    "        Inside.append (i)\n",
    "    else:\n",
    "        Xout.add(x)\n",
    "        Outside.append (i)\n",
    "\n",
    "cloud = ot.Cloud(Xin)\n",
    "cloud.setPointStyle('dot')\n",
    "cloud.setColor('blue')\n",
    "graph.add(cloud)\n",
    "view = otv.View(graph, (800, 600), square_axes=True)\n",
    "print (\" Nb Outlier = \", len (Xout))"
   ]
  }
 ],
 "metadata": {
  "kernelspec": {
   "display_name": "advisedlib",
   "language": "python",
   "name": "advisedlib"
  },
  "language_info": {
   "codemirror_mode": {
    "name": "ipython",
    "version": 3
   },
   "file_extension": ".py",
   "mimetype": "text/x-python",
   "name": "python",
   "nbconvert_exporter": "python",
   "pygments_lexer": "ipython3",
   "version": "3.7.6"
  }
 },
 "nbformat": 4,
 "nbformat_minor": 2
}
