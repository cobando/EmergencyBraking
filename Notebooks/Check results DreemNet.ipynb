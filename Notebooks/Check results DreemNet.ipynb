{
 "cells": [
  {
   "cell_type": "markdown",
   "metadata": {},
   "source": [
    "# Emergency braking - check results 4__label_collison\n",
    "\n",
    "<br>\n",
    "\n",
    "<hr>\n",
    "\n",
    "## Description\n",
    "\n",
    "This notebook check the log results of 4__label_collison \n",
    "\n",
    "4__label_collison runs experiments using DreemNet on the Emergency Braking dataset and predicting events that correspond either to a collison (1), or not (0)"
   ]
  },
  {
   "cell_type": "code",
   "execution_count": 1,
   "metadata": {},
   "outputs": [],
   "source": [
    "import os\n",
    "import torch\n",
    "import matplotlib \n",
    "import matplotlib.pyplot as plt\n",
    "import h5py\n",
    "import numpy as np\n",
    "from scipy.interpolate import griddata"
   ]
  },
  {
   "cell_type": "code",
   "execution_count": 2,
   "metadata": {},
   "outputs": [],
   "source": [
    "path_to_results = '/Users/obando_c/Documents/Neuro/EmergencyBraking/results/'\n",
    "path_to_example = '4__label_collison/lightning_logs/version_1/'"
   ]
  },
  {
   "cell_type": "markdown",
   "metadata": {},
   "source": [
    "## Checkpoint"
   ]
  },
  {
   "cell_type": "code",
   "execution_count": 3,
   "metadata": {},
   "outputs": [
    {
     "name": "stdout",
     "output_type": "stream",
     "text": [
      "the name of the dictionary is epoch\n",
      "the name of the dictionary is global_step\n",
      "the name of the dictionary is checkpoint_callback_best\n",
      "the name of the dictionary is optimizer_states\n",
      "the name of the dictionary is lr_schedulers\n",
      "the name of the dictionary is state_dict\n",
      "the name of the dictionary is hparams\n",
      "the name of the dictionary is hparams_type\n"
     ]
    }
   ],
   "source": [
    "# Local path to checkpoint folder\n",
    "path_to_example_checkpoints = 'checkpoints/epoch=117.ckpt'\n",
    "path_to_checkpoint = os.path.normpath(os.path.join(path_to_results,path_to_example, path_to_example_checkpoints))\n",
    "\n",
    "checkpoint = torch.load(path_to_checkpoint)\n",
    "for name,dict_ in checkpoint.items():\n",
    "    print('the name of the dictionary is '+ name)"
   ]
  },
  {
   "cell_type": "markdown",
   "metadata": {},
   "source": [
    "### Look inside data\n",
    "\n",
    "**epoch**  &emsp; &emsp; &emsp;  &emsp;&emsp;&emsp;&emsp; &emsp;&emsp; &emsp; &nbsp;  *epoch*  <br>\n",
    "**global_step**  &emsp; &emsp; &emsp;&emsp;  &emsp; &emsp; &emsp; &nbsp;*global step*  <br>\n",
    "**checkpoint_callback_best** &emsp; *check point callback best* <br>\n",
    "**optimizer_states** &emsp; &emsp; &emsp; &emsp; &emsp;  *Optimizer states* <br>\n",
    "**lr_schedulers** &emsp; &emsp; &emsp; &emsp; &emsp; &emsp;  *lr_schedulers* <br>\n",
    "**state_dict** &emsp; &emsp; &emsp; &emsp; &emsp; &emsp;&emsp;&emsp;  *Parameters of each layer of the NN* <br>\n",
    "**hparams** &emsp; &emsp; &emsp; &emsp; &emsp; &emsp;&emsp;&emsp;  *hyperparameters* <br>\n",
    "**hparams_type** &emsp; &emsp; &emsp; &emsp;&emsp;&emsp;  *namespace* <br>"
   ]
  },
  {
   "cell_type": "code",
   "execution_count": 26,
   "metadata": {},
   "outputs": [
    {
     "data": {
      "text/plain": [
       "118"
      ]
     },
     "execution_count": 26,
     "metadata": {},
     "output_type": "execute_result"
    }
   ],
   "source": [
    "epoch = checkpoint['epoch']\n",
    "epoch"
   ]
  },
  {
   "cell_type": "code",
   "execution_count": 27,
   "metadata": {},
   "outputs": [
    {
     "data": {
      "text/plain": [
       "118"
      ]
     },
     "execution_count": 27,
     "metadata": {},
     "output_type": "execute_result"
    }
   ],
   "source": [
    "global_step = checkpoint['global_step']\n",
    "global_step"
   ]
  },
  {
   "cell_type": "code",
   "execution_count": 28,
   "metadata": {},
   "outputs": [
    {
     "data": {
      "text/plain": [
       "0.1415727287530899"
      ]
     },
     "execution_count": 28,
     "metadata": {},
     "output_type": "execute_result"
    }
   ],
   "source": [
    "checkpoint_callback_best = checkpoint['checkpoint_callback_best']\n",
    "checkpoint_callback_best"
   ]
  },
  {
   "cell_type": "code",
   "execution_count": 18,
   "metadata": {},
   "outputs": [
    {
     "name": "stdout",
     "output_type": "stream",
     "text": [
      "the name of the dictionary is state\n",
      "the name of the dictionary is param_groups\n"
     ]
    }
   ],
   "source": [
    "optimizer_states = checkpoint['optimizer_states']\n",
    "type(optimizer_states[0])\n",
    "for name,dict_ in optimizer_states[0].items():\n",
    "    print('the name of the dictionary is '+ name)"
   ]
  },
  {
   "cell_type": "code",
   "execution_count": 19,
   "metadata": {},
   "outputs": [
    {
     "name": "stdout",
     "output_type": "stream",
     "text": [
      "the name of the dictionary is 112364145232\n",
      "the name of the dictionary is 112364145952\n",
      "the name of the dictionary is 112364146272\n",
      "the name of the dictionary is 112364179856\n",
      "the name of the dictionary is 112364180016\n",
      "the name of the dictionary is 112364180816\n",
      "the name of the dictionary is 112364180976\n"
     ]
    }
   ],
   "source": [
    "optimizer_states_state = optimizer_states[0]['state']\n",
    "for name,dict_ in optimizer_states_state.items():\n",
    "    print('the name of the dictionary is '+ str(name))"
   ]
  },
  {
   "cell_type": "code",
   "execution_count": 56,
   "metadata": {},
   "outputs": [
    {
     "data": {
      "text/plain": [
       "[{'lr': 0.001,\n",
       "  'betas': (0.9, 0.999),\n",
       "  'eps': 1e-08,\n",
       "  'weight_decay': 0.01,\n",
       "  'amsgrad': False,\n",
       "  'params': [112364145232,\n",
       "   112364145952,\n",
       "   112364146272,\n",
       "   112364179856,\n",
       "   112364180016,\n",
       "   112364180816,\n",
       "   112364180976]}]"
      ]
     },
     "execution_count": 56,
     "metadata": {},
     "output_type": "execute_result"
    }
   ],
   "source": [
    "optimizer_states_param_groups = optimizer_states[0]['param_groups']\n",
    "optimizer_states_param_groups"
   ]
  },
  {
   "cell_type": "code",
   "execution_count": 36,
   "metadata": {},
   "outputs": [
    {
     "data": {
      "text/plain": [
       "[]"
      ]
     },
     "execution_count": 36,
     "metadata": {},
     "output_type": "execute_result"
    }
   ],
   "source": [
    "lr_schedulers = checkpoint['lr_schedulers']\n",
    "lr_schedulers"
   ]
  },
  {
   "cell_type": "code",
   "execution_count": 38,
   "metadata": {},
   "outputs": [
    {
     "name": "stdout",
     "output_type": "stream",
     "text": [
      "the name of the dictionary is net.spatial_filtering.transform.weight\n",
      "the name of the dictionary is net.conv_block_1.transform.0.weight\n",
      "the name of the dictionary is net.conv_block_1.transform.0.bias\n",
      "the name of the dictionary is net.conv_block_2.transform.0.weight\n",
      "the name of the dictionary is net.conv_block_2.transform.0.bias\n",
      "the name of the dictionary is net.dense_block.transform.1.weight\n",
      "the name of the dictionary is net.dense_block.transform.1.bias\n"
     ]
    }
   ],
   "source": [
    "state_dict = checkpoint['state_dict']\n",
    "for name,dict_ in state_dict.items():\n",
    "    print('the name of the dictionary is '+ name)"
   ]
  },
  {
   "cell_type": "code",
   "execution_count": 39,
   "metadata": {},
   "outputs": [
    {
     "data": {
      "text/plain": [
       "{'experiment': '4__label_collison',\n",
       " 'fold': 0,\n",
       " 'n_epochs': 1000,\n",
       " 'batch_size': 1024,\n",
       " 'lr': 0.001,\n",
       " 'n_virtual_channels': 10,\n",
       " 'convolution_size': 16,\n",
       " 'pool_size': 8,\n",
       " 'n_hidden_channels': 8,\n",
       " 'n_time_series': 320,\n",
       " 'n_channels': 59}"
      ]
     },
     "execution_count": 39,
     "metadata": {},
     "output_type": "execute_result"
    }
   ],
   "source": [
    "hparams = checkpoint['hparams']\n",
    "hparams"
   ]
  },
  {
   "cell_type": "code",
   "execution_count": 40,
   "metadata": {},
   "outputs": [
    {
     "data": {
      "text/plain": [
       "'namespace'"
      ]
     },
     "execution_count": 40,
     "metadata": {},
     "output_type": "execute_result"
    }
   ],
   "source": [
    "hparams_type = checkpoint['hparams_type']\n",
    "hparams_type"
   ]
  },
  {
   "cell_type": "markdown",
   "metadata": {},
   "source": [
    "## sen_test"
   ]
  },
  {
   "cell_type": "code",
   "execution_count": 13,
   "metadata": {},
   "outputs": [],
   "source": [
    "path_to_example_sen_train = 'sen_train/events.out.tfevents.1599641646.TOLA320005482.8676.6'\n",
    "path_to_sen_train = os.path.normpath(os.path.join(path_to_results,path_to_example, path_to_example_sen_train))"
   ]
  }
 ],
 "metadata": {
  "kernelspec": {
   "display_name": "EmergencyBraking",
   "language": "python",
   "name": "emergencybraking"
  },
  "language_info": {
   "codemirror_mode": {
    "name": "ipython",
    "version": 3
   },
   "file_extension": ".py",
   "mimetype": "text/x-python",
   "name": "python",
   "nbconvert_exporter": "python",
   "pygments_lexer": "ipython3",
   "version": "3.7.7"
  }
 },
 "nbformat": 4,
 "nbformat_minor": 4
}
