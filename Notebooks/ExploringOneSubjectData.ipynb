{
 "cells": [
  {
   "cell_type": "code",
   "execution_count": 1,
   "metadata": {},
   "outputs": [],
   "source": [
    "# Imports\n",
    "import scipy.io\n",
    "import h5py\n",
    "import time\n",
    "from h5py import File # Package used for loading data from the input h5 file\n",
    "import matplotlib.pyplot as plt\n",
    "import numpy as np"
   ]
  },
  {
   "cell_type": "code",
   "execution_count": 2,
   "metadata": {},
   "outputs": [],
   "source": [
    "path_data_mat = '/Users/obando_c/Documents/Neuro/EmergencyBraking/Data/Raw/'\n",
    "file_name = \"VPja.mat\" # VPja.mat ; VPbax.mat"
   ]
  },
  {
   "cell_type": "code",
   "execution_count": 3,
   "metadata": {},
   "outputs": [
    {
     "name": "stdout",
     "output_type": "stream",
     "text": [
      "Number of tests in  VPja.mat :  4\n",
      "Items inside  VPja.mat :  [('#refs#', <HDF5 group \"/#refs#\" (144 members)>), ('cnt', <HDF5 group \"/cnt\" (6 members)>), ('mnt', <HDF5 group \"/mnt\" (8 members)>), ('mrk', <HDF5 group \"/mrk\" (4 members)>)]\n",
      "Items in cnt [('T', <HDF5 dataset \"T\": shape (3, 1), type \"<f8\">), ('clab', <HDF5 dataset \"clab\": shape (69, 1), type \"|O\">), ('file', <HDF5 dataset \"file\": shape (8, 1), type \"<u2\">), ('fs', <HDF5 dataset \"fs\": shape (1, 1), type \"<f8\">), ('title', <HDF5 dataset \"title\": shape (22, 1), type \"<u2\">), ('x', <HDF5 dataset \"x\": shape (69, 1619951), type \"<f8\">)]\n",
      "Elapsed time: 6.521728992462158 s\n"
     ]
    }
   ],
   "source": [
    "# Extract data cnt - contains data of different channels:\n",
    "# EEG,'EMGf', 'lead_gas', 'lead_brake', 'dist_to_lead', 'wheel_X', 'wheel_Y', 'gas', 'brake'\n",
    "start = time.time()\n",
    "with h5py.File(path_data_mat + file_name, 'r') as f:\n",
    "    print(\"Number of tests in \",file_name, \": \", len(list(f)))\n",
    "    print(\"Items inside \",file_name, \": \", list(f.items()))\n",
    "    cnt = f.get('cnt')\n",
    "    print(\"Items in cnt\", list(cnt.items()) )\n",
    "    T = np.array(cnt.get('T'))\n",
    "    clab = np.array(cnt.get('clab')) # clab is the electrode names\n",
    "    file = np.array(cnt.get('file'))\n",
    "    fs = np.array(cnt.get('fs')) # fs is the sampling rate\n",
    "    title = np.array(cnt.get('title'))\n",
    "    x = np.array(cnt.get('x')) # x is the continuous multivariate data\n",
    "    \n",
    "end = time.time()\n",
    "print(\"Elapsed time:\", (end - start), \"s\")"
   ]
  },
  {
   "cell_type": "code",
   "execution_count": 4,
   "metadata": {},
   "outputs": [
    {
     "name": "stdout",
     "output_type": "stream",
     "text": [
      "Names of channels:\n",
      "['EOGv', 'Fp1', 'Fp2', 'AF3', 'AF4', 'EOGh', 'F7', 'F5', 'F3', 'F1', 'Fz', 'F2', 'F4', 'F6', 'F8', 'FT7', 'FC5', 'FC3', 'FC1', 'FCz', 'FC2', 'FC4', 'FC6', 'FT8', 'T7', 'C5', 'C3', 'C1', 'Cz', 'C2', 'C4', 'C6', 'T8', 'TP7', 'CP5', 'CP3', 'CP1', 'CPz', 'CP2', 'CP4', 'CP6', 'TP8', 'P9', 'P7', 'P5', 'P3', 'P1', 'Pz', 'P2', 'P4', 'P6', 'P8', 'P10', 'PO7', 'PO3', 'POz', 'PO4', 'PO8', 'O1', 'Oz', 'O2', 'EMGf', 'lead_gas', 'lead_brake', 'dist_to_lead', 'wheel_X', 'wheel_Y', 'gas', 'brake']\n"
     ]
    }
   ],
   "source": [
    "# Extract name of channels \n",
    "f = h5py.File(path_data_mat + file_name,'r') \n",
    "test = f['cnt/clab']\n",
    "name_elec = list()\n",
    "for j in range(len(test)):\n",
    "    st = test[j][0]\n",
    "    obj = f[st]\n",
    "    str1 = ''.join(chr(i) for i in obj[:])\n",
    "    name_elec.append(str1)\n",
    "print(\"Names of channels:\")\n",
    "print(name_elec)"
   ]
  },
  {
   "cell_type": "code",
   "execution_count": 15,
   "metadata": {},
   "outputs": [
    {
     "data": {
      "text/plain": [
       "69"
      ]
     },
     "execution_count": 15,
     "metadata": {},
     "output_type": "execute_result"
    }
   ],
   "source": [
    "len(name_elec)"
   ]
  },
  {
   "cell_type": "code",
   "execution_count": 5,
   "metadata": {},
   "outputs": [
    {
     "name": "stdout",
     "output_type": "stream",
     "text": [
      "Items in mrk [('className', <HDF5 dataset \"className\": shape (5, 1), type \"|O\">), ('event', <HDF5 group \"/mrk/event\" (1 members)>), ('time', <HDF5 dataset \"time\": shape (948, 1), type \"<f8\">), ('y', <HDF5 dataset \"y\": shape (948, 5), type \"<f8\">)]\n",
      "Items in event [('react', <HDF5 dataset \"react\": shape (1, 948), type \"<f8\">)]\n",
      "Elapsed time: 0.005502939224243164 s\n"
     ]
    }
   ],
   "source": [
    "# Extract data mrk - contains information on the EVENTS\n",
    "start = time.time()\n",
    "with h5py.File(path_data_mat + file_name, 'r') as f:\n",
    "    mrk = f.get('mrk')\n",
    "    print(\"Items in mrk\", list(mrk.items()) )\n",
    "    className = np.array(mrk.get('className')) # are the names of the different types of events\n",
    "    event = mrk.get('event') # \n",
    "    print(\"Items in event\", list(event.items()) )\n",
    "    react = np.array(event.get('react'))\n",
    "    time_mrk = np.array(mrk.get('time')) # mrk.time is the timestamp for each event in milliseconds\n",
    "    y = np.array(mrk.get('y')) # mrk.y is a binary matrix telling which of the five types each event is\n",
    "    \n",
    "end = time.time()\n",
    "print(\"Elapsed time:\", (end - start), \"s\")"
   ]
  },
  {
   "cell_type": "code",
   "execution_count": 19,
   "metadata": {},
   "outputs": [
    {
     "data": {
      "text/plain": [
       "<Closed HDF5 group>"
      ]
     },
     "execution_count": 19,
     "metadata": {},
     "output_type": "execute_result"
    }
   ],
   "source": [
    "event"
   ]
  },
  {
   "cell_type": "code",
   "execution_count": 6,
   "metadata": {},
   "outputs": [
    {
     "name": "stdout",
     "output_type": "stream",
     "text": [
      "Class names:\n",
      "['car_normal', 'car_brake', 'car_hold', 'car_collision', 'react_emg']\n"
     ]
    }
   ],
   "source": [
    "# Extract className\n",
    "f = h5py.File(path_data_mat + file_name,'r') \n",
    "test = f['mrk/className']\n",
    "className = list()\n",
    "for j in range(len(test)):\n",
    "    st = test[j][0]\n",
    "    obj = f[st]\n",
    "    str1 = ''.join(chr(i) for i in obj[:])\n",
    "    className.append(str1)\n",
    "print(\"Class names:\")\n",
    "print(className)\n",
    "car_brake_y = time_mrk.T*y[:,1] # contains the time in ms of events car_brake "
   ]
  },
  {
   "cell_type": "code",
   "execution_count": 7,
   "metadata": {},
   "outputs": [
    {
     "data": {
      "text/plain": [
       "Text(0.5, 1.0, 'Events subject VPja.mat')"
      ]
     },
     "execution_count": 7,
     "metadata": {},
     "output_type": "execute_result"
    },
    {
     "data": {
      "image/png": "[encoded data removed]",
      "text/plain": [
       "<Figure size 1440x360 with 1 Axes>"
      ]
     },
     "metadata": {
      "needs_background": "light"
     },
     "output_type": "display_data"
    }
   ],
   "source": [
    "#  Experiments consisted of\n",
    "# Three blocks (45 min each, marked with grey vertical dash) of driving were conducted with rest periods of 10–15 min in between \n",
    "# During these periods, 225 ± 17 critical (emergency braking) situations were artificially induced \n",
    "lead_brake_index = 63\n",
    "m = 100\n",
    "events_y = np.array(car_brake_y[car_brake_y>0]/5).astype(int)\n",
    "plt.figure(figsize=(20,5))\n",
    "#x[events_ms/5,::m]\n",
    "plt.plot(np.linspace(start = 0, stop = x.shape[1], num =len(x[lead_brake_index,events_y]))/200/60, x[lead_brake_index,events_y], linestyle=' ', marker=\"o\")\n",
    "plt.axvline(x=45, color='gray', linestyle='--')\n",
    "plt.axvline(x=90, color='gray', linestyle='--')\n",
    "plt.xlabel(\"time (m)\")\n",
    "plt.ylabel(\"Beginning of an event \")\n",
    "plt.title('Events subject ' + file_name)"
   ]
  },
  {
   "cell_type": "code",
   "execution_count": 8,
   "metadata": {},
   "outputs": [
    {
     "data": {
      "text/plain": [
       "Text(0.5, 1.0, 'Example of a target segment')"
      ]
     },
     "execution_count": 8,
     "metadata": {},
     "output_type": "execute_result"
    },
    {
     "data": {
      "image/png": "[encoded data removed]",
      "text/plain": [
       "<Figure size 720x360 with 1 Axes>"
      ]
     },
     "metadata": {
      "needs_background": "light"
     },
     "output_type": "display_data"
    }
   ],
   "source": [
    "event_index = 0 # Index of an event\n",
    "ts_i = 60 # Target segment interval intial point\n",
    "ts_f = 240 # Target segment interval intial point\n",
    "event_tiem = events_y[event_index]\n",
    "plt.figure(figsize=(10,5))\n",
    "x1 = np.linspace(start = 0, stop =(ts_i+ts_f)*5, num =(ts_i+ts_f))\n",
    "plt.plot(x1,x[lead_brake_index,event_tiem-ts_i:event_tiem+ts_f], label=\"lead_brake\")\n",
    "plt.plot(x1,x[68,event_tiem-ts_i:event_tiem+ts_f], label = \"brake\")\n",
    "plt.plot(x1,x[62,event_tiem-ts_i:event_tiem+ts_f], label=\"lead_gas\")\n",
    "plt.plot(x1,x[67,event_tiem-ts_i:event_tiem+ts_f], label = \"gas\")\n",
    "#plt.plot(x1,x[61,event_tiem-ts_i:event_tiem+ts_f], label = \"EMGf\")\n",
    "plt.axvline(x=ts_i*5, color='gray', linestyle='--')\n",
    "plt.xlabel(\"time (ms)\")\n",
    "plt.legend(fontsize=13)\n",
    "plt.title(\"Example of a target segment\")"
   ]
  },
  {
   "cell_type": "code",
   "execution_count": 39,
   "metadata": {},
   "outputs": [],
   "source": [
    "# Construct matrix with all target segments for channel chn_name\n",
    "ts_i = 60 # Target segment interval intial point -> corresponds to 300ms\n",
    "ts_f = 240 # Target segment interval intial point -> corresponds to 1200ms\n",
    "chn_name = \"P9\"\n",
    "channel = np.where(np.asarray(name_elec) == chn_name)[0]\n",
    "A = np.zeros((len(events_y), ts_f+ts_i))\n",
    "for event_index in range(len(events_y)):\n",
    "    event_tiem = events_y[event_index]\n",
    "    A[event_index,:] = x[channel,event_tiem-ts_i:event_tiem+ts_f]"
   ]
  },
  {
   "cell_type": "code",
   "execution_count": 40,
   "metadata": {},
   "outputs": [
    {
     "data": {
      "text/plain": [
       "(230, 300)"
      ]
     },
     "execution_count": 40,
     "metadata": {},
     "output_type": "execute_result"
    }
   ],
   "source": [
    "A.shape"
   ]
  },
  {
   "cell_type": "code",
   "execution_count": 41,
   "metadata": {},
   "outputs": [
    {
     "data": {
      "text/plain": [
       "Text(0.5, 1.0, 'Channel P9')"
      ]
     },
     "execution_count": 41,
     "metadata": {},
     "output_type": "execute_result"
    },
    {
     "data": {
      "image/png": "[encoded data removed]",
      "text/plain": [
       "<Figure size 720x360 with 1 Axes>"
      ]
     },
     "metadata": {
      "needs_background": "light"
     },
     "output_type": "display_data"
    }
   ],
   "source": [
    "# Plot Event-Related-Potential \n",
    "plt.figure(figsize=(10,5))\n",
    "A.shape\n",
    "A_norm = np.subtract(A,np.array(A[:,:20].mean(1)).reshape(A.shape[0],1))\n",
    "plt.plot(np.linspace(start = 0, stop = A_norm.shape[1]*5, num =A_norm.shape[1]), A_norm.mean(0))\n",
    "plt.axvline(x=300, color='gray', linestyle='-')\n",
    "plt.axhline(y=0, color='gray', linestyle='-')\n",
    "plt.xlabel(\"time (ms)\")\n",
    "plt.ylabel(u\"\\u03bcV\")\n",
    "plt.title('Channel ' + chn_name)"
   ]
  },
  {
   "cell_type": "code",
   "execution_count": 133,
   "metadata": {},
   "outputs": [],
   "source": [
    "noevents_int = np.append(np.append(0, events_y), x.shape[1])\n",
    "noevents_len = np.diff(noevents_int)"
   ]
  },
  {
   "cell_type": "code",
   "execution_count": 143,
   "metadata": {},
   "outputs": [
    {
     "data": {
      "text/plain": [
       "range(0, -6)"
      ]
     },
     "execution_count": 143,
     "metadata": {},
     "output_type": "execute_result"
    }
   ],
   "source": [
    "range(noevents_seg)"
   ]
  },
  {
   "cell_type": "code",
   "execution_count": 147,
   "metadata": {},
   "outputs": [
    {
     "data": {
      "text/plain": [
       "-6"
      ]
     },
     "execution_count": 147,
     "metadata": {},
     "output_type": "execute_result"
    }
   ],
   "source": [
    "noevents_seg"
   ]
  },
  {
   "cell_type": "code",
   "execution_count": 160,
   "metadata": {},
   "outputs": [],
   "source": [
    "gap_sml = 600 # 3000 ms apart from any stimulus\n",
    "nts_offset = 100 # 500 ms\n",
    "for event_index in range(len(noevents_len)):\n",
    "    noevents_seg = int((noevents_len[event_index] - gap_sml*2 - ts_i + ts_f) / nts_offset)\n",
    "    if(noevents_seg>0):\n",
    "        for noevent_ix in range(noevents_seg):\n",
    "            ip = noevents_int[event_index] + gap_sml + nts_offset*noevent_ix\n",
    "            fp = ip + ts_i + ts_f\n",
    "            A = x[channels_eeg, ip:fp]\n",
    "            # print(ip)"
   ]
  },
  {
   "cell_type": "code",
   "execution_count": 152,
   "metadata": {},
   "outputs": [
    {
     "data": {
      "text/plain": [
       "1154"
      ]
     },
     "execution_count": 152,
     "metadata": {},
     "output_type": "execute_result"
    }
   ],
   "source": [
    "11154-10000"
   ]
  },
  {
   "cell_type": "code",
   "execution_count": 153,
   "metadata": {},
   "outputs": [
    {
     "data": {
      "text/plain": [
       "10554"
      ]
     },
     "execution_count": 153,
     "metadata": {},
     "output_type": "execute_result"
    }
   ],
   "source": [
    "events_y[0]"
   ]
  },
  {
   "cell_type": "code",
   "execution_count": 154,
   "metadata": {},
   "outputs": [
    {
     "data": {
      "text/plain": [
       "600"
      ]
     },
     "execution_count": 154,
     "metadata": {},
     "output_type": "execute_result"
    }
   ],
   "source": [
    "11154 - events_y[0]\n"
   ]
  },
  {
   "cell_type": "code",
   "execution_count": 159,
   "metadata": {},
   "outputs": [
    {
     "data": {
      "text/plain": [
       "9654"
      ]
     },
     "execution_count": 159,
     "metadata": {},
     "output_type": "execute_result"
    }
   ],
   "source": [
    "events_y[0] -  gap_sml - (ts_i + ts_f)"
   ]
  },
  {
   "cell_type": "code",
   "execution_count": 124,
   "metadata": {},
   "outputs": [
    {
     "data": {
      "text/plain": [
       "Text(0.5, 1.0, 'Normal brain activity')"
      ]
     },
     "execution_count": 124,
     "metadata": {},
     "output_type": "execute_result"
    },
    {
     "data": {
      "image/png": "[encoded data removed]",
      "text/plain": [
       "<Figure size 720x360 with 1 Axes>"
      ]
     },
     "metadata": {
      "needs_background": "light"
     },
     "output_type": "display_data"
    }
   ],
   "source": [
    "# Plot Event-Related-Potential \n",
    "plt.figure(figsize=(10,5))\n",
    "A.shape\n",
    "A_norm = np.subtract(A,np.array(A[:,:20].mean(1)).reshape(A.shape[0],1))\n",
    "plt.plot(np.linspace(start = 0, stop = A_norm.shape[1]*5, num =A_norm.shape[1]), A_norm.mean(0))\n",
    "plt.axvline(x=300, color='gray', linestyle='-')\n",
    "plt.axhline(y=0, color='gray', linestyle='-')\n",
    "plt.xlabel(\"time (ms)\")\n",
    "plt.ylabel(u\"\\u03bcV\")\n",
    "plt.title('Normal brain activity')\n"
   ]
  },
  {
   "cell_type": "code",
   "execution_count": 139,
   "metadata": {},
   "outputs": [
    {
     "data": {
      "text/plain": [
       "1618993"
      ]
     },
     "execution_count": 139,
     "metadata": {},
     "output_type": "execute_result"
    }
   ],
   "source": [
    "ip"
   ]
  },
  {
   "cell_type": "code",
   "execution_count": 140,
   "metadata": {},
   "outputs": [
    {
     "data": {
      "text/plain": [
       "1619293"
      ]
     },
     "execution_count": 140,
     "metadata": {},
     "output_type": "execute_result"
    }
   ],
   "source": [
    "fp"
   ]
  },
  {
   "cell_type": "code",
   "execution_count": 127,
   "metadata": {},
   "outputs": [
    {
     "data": {
      "text/plain": [
       "(69, 1619951)"
      ]
     },
     "execution_count": 127,
     "metadata": {},
     "output_type": "execute_result"
    }
   ],
   "source": [
    "x.shape"
   ]
  },
  {
   "cell_type": "code",
   "execution_count": 141,
   "metadata": {},
   "outputs": [
    {
     "data": {
      "text/plain": [
       "658"
      ]
     },
     "execution_count": 141,
     "metadata": {},
     "output_type": "execute_result"
    }
   ],
   "source": [
    "1619951 - fp"
   ]
  },
  {
   "cell_type": "code",
   "execution_count": 129,
   "metadata": {},
   "outputs": [
    {
     "data": {
      "text/plain": [
       "295"
      ]
     },
     "execution_count": 129,
     "metadata": {},
     "output_type": "execute_result"
    }
   ],
   "source": [
    "events_y[-1]-fp"
   ]
  },
  {
   "cell_type": "code",
   "execution_count": 130,
   "metadata": {},
   "outputs": [
    {
     "name": "stdout",
     "output_type": "stream",
     "text": [
      "(69, 1619951)\n",
      "1619588\n",
      "363\n"
     ]
    }
   ],
   "source": [
    "print(x.shape)\n",
    "print(events_y[-1])\n",
    "print(x.shape[1]-events_y[-1])"
   ]
  },
  {
   "cell_type": "code",
   "execution_count": 131,
   "metadata": {},
   "outputs": [
    {
     "data": {
      "text/plain": [
       "300"
      ]
     },
     "execution_count": 131,
     "metadata": {},
     "output_type": "execute_result"
    }
   ],
   "source": [
    "ts_i + ts_f"
   ]
  },
  {
   "cell_type": "code",
   "execution_count": 144,
   "metadata": {},
   "outputs": [
    {
     "data": {
      "text/plain": [
       "230"
      ]
     },
     "execution_count": 144,
     "metadata": {},
     "output_type": "execute_result"
    }
   ],
   "source": [
    "len(events_y)"
   ]
  }
 ],
 "metadata": {
  "kernelspec": {
   "display_name": "Python 3",
   "language": "python",
   "name": "python3"
  },
  "language_info": {
   "codemirror_mode": {
    "name": "ipython",
    "version": 3
   },
   "file_extension": ".py",
   "mimetype": "text/x-python",
   "name": "python",
   "nbconvert_exporter": "python",
   "pygments_lexer": "ipython3",
   "version": "3.7.3"
  }
 },
 "nbformat": 4,
 "nbformat_minor": 2
}
